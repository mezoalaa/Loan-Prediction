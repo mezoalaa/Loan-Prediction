{
  "nbformat": 4,
  "nbformat_minor": 0,
  "metadata": {
    "colab": {
      "provenance": [],
      "authorship_tag": "ABX9TyNDYJznP7hMHvQmBe5C8e7t",
      "include_colab_link": true
    },
    "kernelspec": {
      "name": "python3",
      "display_name": "Python 3"
    },
    "language_info": {
      "name": "python"
    }
  },
  "cells": [
    {
      "cell_type": "markdown",
      "metadata": {
        "id": "view-in-github",
        "colab_type": "text"
      },
      "source": [
        "<a href=\"https://colab.research.google.com/github/mezoalaa/Loan-Prediction/blob/main/Data_preprocessing.ipynb\" target=\"_parent\"><img src=\"https://colab.research.google.com/assets/colab-badge.svg\" alt=\"Open In Colab\"/></a>"
      ]
    },
    {
      "cell_type": "code",
      "execution_count": null,
      "metadata": {
        "id": "56uem-qB1--b"
      },
      "outputs": [],
      "source": [
        "import pandas as pd # manipulating data\n",
        "import seaborn as sns # visulization dataset\n",
        "import matplotlib.pyplot as plt  # visulization dataset\n",
        "import numpy as np # linear algebra\n",
        "import plotly.graph_objs as go\n",
        "import seaborn as seabornInstance\n",
        "from sklearn.model_selection import train_test_split\n",
        "from sklearn.linear_model import LinearRegression\n",
        "from sklearn.linear_model import Ridge\n",
        "from sklearn.linear_model import Lasso\n",
        "from sklearn.linear_model import ElasticNet\n",
        "from sklearn.neighbors import KNeighborsRegressor\n",
        "from sklearn.tree import DecisionTreeRegressor\n",
        "from sklearn.svm import SVR\n",
        "from sklearn.ensemble import RandomForestRegressor\n",
        "from sklearn import metrics\n",
        "%matplotlib inline"
      ]
    },
    {
      "cell_type": "code",
      "source": [
        "dataset = pd.read_csv(\"/content/loan_dataset.csv\")\n",
        "dataset"
      ],
      "metadata": {
        "id": "yexavTQ32DQJ"
      },
      "execution_count": null,
      "outputs": []
    },
    {
      "cell_type": "code",
      "source": [
        "dataset.describe()"
      ],
      "metadata": {
        "id": "RNZhnoLl2IX2"
      },
      "execution_count": null,
      "outputs": []
    },
    {
      "cell_type": "code",
      "source": [
        "dataset.shape"
      ],
      "metadata": {
        "id": "TZNuZmU32Xtc"
      },
      "execution_count": null,
      "outputs": []
    },
    {
      "cell_type": "code",
      "source": [
        "dataset.head(10)"
      ],
      "metadata": {
        "id": "ZmMudw2W2YgO"
      },
      "execution_count": null,
      "outputs": []
    },
    {
      "cell_type": "code",
      "source": [
        "target_count=dataset.loan_status. value_counts()"
      ],
      "metadata": {
        "id": "w44zBzXA2kN8"
      },
      "execution_count": null,
      "outputs": []
    },
    {
      "cell_type": "code",
      "source": [
        "print('class 0:' , target_count[0])\n",
        "print('class 1:' , target_count[1])\n",
        "print('loan_status' in dataset.columns)\n",
        "print(dataset.columns)"
      ],
      "metadata": {
        "id": "Ooyr22ot2lFs"
      },
      "execution_count": null,
      "outputs": []
    },
    {
      "cell_type": "code",
      "source": [
        "target_count.plot(kind ='bar',title = 'count of traget' , color = \"#0072b0\")\n",
        "dataset.isnull().sum()"
      ],
      "metadata": {
        "id": "2kyoSIku2orm"
      },
      "execution_count": null,
      "outputs": []
    },
    {
      "cell_type": "code",
      "source": [
        "dumm_var = pd.get_dummies(dataset.self_employed,prefix=\"self_employed_dummy\").iloc[:,1:]\n",
        "dumm_var = pd.get_dummies(dataset.self_employed,prefix=\"education_dummy\").iloc[:,1:]\n",
        "dumm_var"
      ],
      "metadata": {
        "id": "bOQFADl72skc"
      },
      "execution_count": null,
      "outputs": []
    },
    {
      "cell_type": "code",
      "source": [
        "dumm_var = pd.get_dummies(dataset.self_employed,prefix=\"self_employed_dummy\").iloc[:,1:]\n",
        "dumm_var"
      ],
      "metadata": {
        "id": "8Odjh9NY2u4a"
      },
      "execution_count": null,
      "outputs": []
    },
    {
      "cell_type": "code",
      "source": [
        "new_dataset_after_dummy = pd.concat([dataset,dumm_var],axis=1)\n",
        "new_dataset_after_dummy"
      ],
      "metadata": {
        "id": "d1Jh55zs2wox"
      },
      "execution_count": null,
      "outputs": []
    },
    {
      "cell_type": "code",
      "source": [
        "print(dataset.shape)"
      ],
      "metadata": {
        "id": "MIaYZiyn2yqK"
      },
      "execution_count": null,
      "outputs": []
    },
    {
      "cell_type": "code",
      "source": [
        "correlation_matrix = dataset.corr()"
      ],
      "metadata": {
        "id": "MQx3Phct21dZ"
      },
      "execution_count": null,
      "outputs": []
    },
    {
      "cell_type": "code",
      "source": [
        "plt.figure(figsize=(10, 8))\n",
        "sns.heatmap(correlation_matrix, annot=True, cmap='coolwarm', fmt=\".2f\", linewidths=.3)\n",
        "plt.title(\"Correlation Heatmap\")\n",
        "plt.show()"
      ],
      "metadata": {
        "id": "kE4Cjujd236O"
      },
      "execution_count": null,
      "outputs": []
    },
    {
      "cell_type": "code",
      "source": [
        "correlation_matrix = dataset.corr()"
      ],
      "metadata": {
        "id": "N__VT5m728CE"
      },
      "execution_count": null,
      "outputs": []
    },
    {
      "cell_type": "code",
      "source": [
        "num=['income_annum', 'loan_amount', 'cibil_score',\n",
        "       'bank_asset_value']\n",
        "for column in num:\n",
        "    plt.figure(figsize=(8,4))\n",
        "    plt.hist(dataset[column])\n",
        "    plt.title(column)\n",
        "    plt.show()"
      ],
      "metadata": {
        "id": "eoZp2uZy2_hh"
      },
      "execution_count": null,
      "outputs": []
    },
    {
      "cell_type": "code",
      "source": [
        "f, (ax1, ax2, ax3, ax4, ax5) = plt.subplots(1, 5, sharey=True, figsize=(15, 3))\n",
        "\n",
        "ax1.scatter(dataset['cibil_score'], dataset['loan_status'])\n",
        "ax1.set_title('loan_status_of_cibil_score')\n",
        "\n",
        "ax2.scatter(dataset['income_annum'], dataset['loan_status'])\n",
        "ax2.set_title('loan_status_of_income')\n",
        "\n",
        "ax3.scatter(dataset['loan_amount'], dataset['loan_status'])  # Corrected column name\n",
        "ax3.set_title('loan_status_of_loan_amount')\n",
        "\n",
        "ax4.scatter(dataset['commercial_assets_value'], dataset['loan_status'])\n",
        "ax4.set_title('loan_status_of_commercial')\n",
        "\n",
        "ax5.scatter(dataset['bank_asset_value'], dataset['loan_status'])\n",
        "ax5.set_title('loan_status_of_bank')\n",
        "plt.show()"
      ],
      "metadata": {
        "id": "_DDaB1C93AUT"
      },
      "execution_count": null,
      "outputs": []
    },
    {
      "cell_type": "code",
      "source": [],
      "metadata": {
        "id": "JNbAfDFy3DvM"
      },
      "execution_count": null,
      "outputs": []
    },
    {
      "cell_type": "markdown",
      "source": [],
      "metadata": {
        "id": "gDHoFmWu3FUQ"
      }
    }
  ]
}